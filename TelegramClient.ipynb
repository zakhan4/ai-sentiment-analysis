{
 "cells": [
  {
   "cell_type": "code",
   "execution_count": 43,
   "metadata": {},
   "outputs": [],
   "source": [
    "#Enter you own user and app info here, before running this project\n",
    "username = \"\" #ADD YOUR TELEGRAM USERNAME\n",
    "phone_number = \"\" #ADD YOUR TELEGRAM PHONE NUMBER\n",
    "api_id = 0 #ADD YOUR TELEGRAM DEVELOPER APP ID\n",
    "api_hash = \"\" #ADD YOUR TELEGRAM DEVELOPER APP HASH\n",
    "\n",
    "#Select which trained model to use to predict results\n",
    "#Can select from [formspring, wiki, twitter, sentiment104]\n",
    "data = \"wiki\"\n",
    "output_folder_name = \"results/\""
   ]
  },
  {
   "cell_type": "code",
   "execution_count": 44,
   "metadata": {},
   "outputs": [],
   "source": [
    "import logging\n",
    "logging.basicConfig(format='[%(levelname) 5s/%(asctime)s] %(name)s: %(message)s',\n",
    "                    level=logging.WARNING)"
   ]
  },
  {
   "cell_type": "code",
   "execution_count": 45,
   "metadata": {},
   "outputs": [],
   "source": [
    "import os\n",
    "os.environ['KERAS_BACKEND']='theano'\n",
    "from AttentionLayer import AttLayer\n",
    "from keras.models import load_model\n",
    "import numpy as np\n",
    "from tensorflow.contrib import learn\n",
    "\n",
    "#Loading the learned Vocabulary Processor from the file system\n",
    "vocab_filename = output_folder_name + data + \"_vbp.pkl\"\n",
    "vocab_processor = learn.preprocessing.VocabularyProcessor.restore(vocab_filename)\n",
    "    \n",
    "#Loading the trained model from the file system\n",
    "model_filename = output_folder_name + data + \".model\"\n",
    "model = load_model(model_filename, custom_objects={'AttLayer': AttLayer})\n",
    "\n",
    "#Returns the predicted Sentiment Score by the model\n",
    "def getSentimentValue(test_x):\n",
    "    testX = np.array(list(vocab_processor.transform([test_x])))\n",
    "    temp = model.predict(testX)\n",
    "    return temp[0][0]"
   ]
  },
  {
   "cell_type": "code",
   "execution_count": 49,
   "metadata": {},
   "outputs": [
    {
     "name": "stdout",
     "output_type": "stream",
     "text": [
      "Your session has been established with Telegram, now you can do chat messages from Telegram\n",
      "1. In order to find out the sentiment score, you can send msg in this format: <Score>\n",
      "2. Ïn order to close this session, just stop executing this cell\n"
     ]
    },
    {
     "name": "stderr",
     "output_type": "stream",
     "text": [
      "[WARNING/2019-07-31 21:15:11,069] tensorflow: From C:\\Users\\Ali\\Anaconda3\\lib\\site-packages\\tensorflow\\contrib\\learn\\python\\learn\\preprocessing\\text.py:203: tokenizer (from tensorflow.contrib.learn.python.learn.preprocessing.text) is deprecated and will be removed in a future version.\n",
      "Instructions for updating:\n",
      "Please use tensorflow/transform or tf.data.\n"
     ]
    },
    {
     "ename": "CancelledError",
     "evalue": "",
     "output_type": "error",
     "traceback": [
      "\u001b[1;31m---------------------------------------------------------------------------\u001b[0m",
      "\u001b[1;31mCancelledError\u001b[0m                            Traceback (most recent call last)",
      "\u001b[1;32mcell_name\u001b[0m in \u001b[0;36masync-def-wrapper\u001b[1;34m()\u001b[0m\n",
      "\u001b[1;32mcell_name\u001b[0m in \u001b[0;36msignInTelegram\u001b[1;34m(username, phone)\u001b[0m\n",
      "\u001b[1;32m~\\Anaconda3\\lib\\site-packages\\telethon\\client\\updates.py\u001b[0m in \u001b[0;36m_run_until_disconnected\u001b[1;34m(self)\u001b[0m\n\u001b[0;32m     20\u001b[0m     \u001b[1;33masync\u001b[0m \u001b[1;32mdef\u001b[0m \u001b[0m_run_until_disconnected\u001b[0m\u001b[1;33m(\u001b[0m\u001b[0mself\u001b[0m\u001b[1;33m:\u001b[0m \u001b[1;34m'TelegramClient'\u001b[0m\u001b[1;33m)\u001b[0m\u001b[1;33m:\u001b[0m\u001b[1;33m\u001b[0m\u001b[0m\n\u001b[0;32m     21\u001b[0m         \u001b[1;32mtry\u001b[0m\u001b[1;33m:\u001b[0m\u001b[1;33m\u001b[0m\u001b[0m\n\u001b[1;32m---> 22\u001b[1;33m             \u001b[0mawait\u001b[0m \u001b[0mself\u001b[0m\u001b[1;33m.\u001b[0m\u001b[0mdisconnected\u001b[0m\u001b[1;33m\u001b[0m\u001b[0m\n\u001b[0m\u001b[0;32m     23\u001b[0m         \u001b[1;32mexcept\u001b[0m \u001b[0mKeyboardInterrupt\u001b[0m\u001b[1;33m:\u001b[0m\u001b[1;33m\u001b[0m\u001b[0m\n\u001b[0;32m     24\u001b[0m             \u001b[1;32mpass\u001b[0m\u001b[1;33m\u001b[0m\u001b[0m\n",
      "\u001b[1;31mCancelledError\u001b[0m: "
     ]
    }
   ],
   "source": [
    "from telethon import TelegramClient, events\n",
    "#Contains all the conversations and the messages inside for the user, since the application starts running\n",
    "myDict = {}\n",
    "\n",
    "async def signInTelegram(username, phone):\n",
    "    client = TelegramClient(username, api_id, api_hash)\n",
    "    \n",
    "    await client.start(phone)\n",
    "    async with client:\n",
    "        # Getting information about yourself\n",
    "        me = await client.get_me()\n",
    "            \n",
    "        print(\"Your session has been established with Telegram, now you can do chat messages from Telegram\")\n",
    "        print(\"1. In order to find out the sentiment score, you can send msg in this format: <Score>\")\n",
    "        print(\"2. Ïn order to close this session, just stop executing this cell\")\n",
    "        #This is called as soon as there is a new message in any conversatioon\n",
    "        @client.on(events.NewMessage)\n",
    "        async def my_event_handler(event):\n",
    "            new_msg = event.raw_text.lower()\n",
    "            if(new_msg != ''):\n",
    "                if(not event.chat_id in myDict):\n",
    "                     myDict[event.chat_id] = []\n",
    "                     \n",
    "                #We append the new chat message with the conversation id in this dictionary\n",
    "                myDict[event.chat_id].append(new_msg)\n",
    "                \n",
    "                #If the new msg is \"<score>\", we calculate the sentiment for the all the existing msgs in that conversation\n",
    "                if(new_msg == \"<score>\"): \n",
    "                    #Concatenating all the existing messages\n",
    "                    concat_text = ''\n",
    "                    for i in range(0, (len(myDict[event.chat_id]) - 1) ):\n",
    "                        concat_text += myDict[event.chat_id][i] + \". \"\n",
    "                        \n",
    "                    #We also removes all the chats messages for which the score is already calculated   \n",
    "                    myDict[event.chat_id] = []\n",
    "                    sentiment = getSentimentValue(concat_text)\n",
    "                    \n",
    "                    sentimentReply = ''\n",
    "                    score = str(\"%.2f\" % (sentiment * 100)) + '%';\n",
    "\n",
    "                    if(sentiment <= 0.25):\n",
    "                        sentimentReply = \"\\U0001F621 Negative Score: \" + score  \n",
    "                    elif(sentiment >= 0.75):\n",
    "                        sentimentReply = \"\\U0001F600 Positive Score: \" + score\n",
    "                    else:\n",
    "                        sentimentReply = \"\\U0001F633 Neutral Score: \" + score\n",
    "\n",
    "                    await event.reply(sentimentReply)\n",
    "                \n",
    "        await client.start()\n",
    "        await client.run_until_disconnected()\n",
    "        \n",
    "await signInTelegram(username, phone_number)"
   ]
  },
  {
   "cell_type": "code",
   "execution_count": null,
   "metadata": {},
   "outputs": [],
   "source": []
  }
 ],
 "metadata": {
  "kernelspec": {
   "display_name": "Python 3",
   "language": "python",
   "name": "python3"
  },
  "language_info": {
   "codemirror_mode": {
    "name": "ipython",
    "version": 3
   },
   "file_extension": ".py",
   "mimetype": "text/x-python",
   "name": "python",
   "nbconvert_exporter": "python",
   "pygments_lexer": "ipython3",
   "version": "3.6.6"
  }
 },
 "nbformat": 4,
 "nbformat_minor": 2
}
